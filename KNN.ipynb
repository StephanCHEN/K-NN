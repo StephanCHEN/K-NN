{
 "cells": [
  {
   "cell_type": "code",
   "execution_count": 38,
   "metadata": {},
   "outputs": [],
   "source": [
    "import numpy as np\n",
    "from sklearn.datasets import load_digits\n",
    "from collections import Counter\n",
    "from sklearn.metrics import confusion_matrix"
   ]
  },
  {
   "cell_type": "code",
   "execution_count": 4,
   "metadata": {},
   "outputs": [],
   "source": [
    "data = load_digits(n_class=10, return_X_y=True)[0]\n",
    "labels = load_digits(n_class=10, return_X_y=True)[1]"
   ]
  },
  {
   "cell_type": "code",
   "execution_count": 23,
   "metadata": {},
   "outputs": [],
   "source": [
    "(n,d) = (np.shape(data)[0],np.shape(data)[1])\n",
    "data_train = data[0:int(0.8*n) , ]\n",
    "labels_train = labels[0:int(0.8*n) , ]\n",
    "data_test = data[int(0.8*n):, ]\n",
    "labels_test = labels[int(0.8*n):, ]"
   ]
  },
  {
   "cell_type": "code",
   "execution_count": 30,
   "metadata": {
    "collapsed": true
   },
   "outputs": [],
   "source": [
    "def distances(point):\n",
    "    dist = []\n",
    "    for j in range(int(0.8*n)):\n",
    "        dist.append(np.linalg.norm(point-data_train[j], 2))\n",
    "    return np.asarray(dist)"
   ]
  },
  {
   "cell_type": "code",
   "execution_count": 92,
   "metadata": {
    "collapsed": true
   },
   "outputs": [],
   "source": [
    "def KNN(k):\n",
    "    classes = np.zeros(n-int(0.8*n))\n",
    "    for i in range(n-int(0.8*n)):\n",
    "        dist = distances(data_test[i])\n",
    "        index = dist.argsort()[:k]\n",
    "        labeli = labels[index, ]\n",
    "        m = np.bincount(labeli).argmax()\n",
    "        classes[i] = m\n",
    "    return classes,m"
   ]
  },
  {
   "cell_type": "code",
   "execution_count": 93,
   "metadata": {},
   "outputs": [],
   "source": [
    "classes,m = KNN(5)"
   ]
  },
  {
   "cell_type": "code",
   "execution_count": 96,
   "metadata": {},
   "outputs": [
    {
     "data": {
      "text/plain": [
       "array([ 2.,  3.,  4.,  5.,  6.,  7.,  8.,  9.,  0.,  9.,  5.,  5.,  6.,\n",
       "        5.,  0.,  9.,  8.,  9.,  8.,  4.,  1.,  7.,  7.,  3.,  5.,  1.,\n",
       "        0.,  0.,  2.,  2.,  7.,  8.,  2.,  0.,  1.,  2.,  6.,  3.,  3.,\n",
       "        7.,  3.,  3.,  4.,  6.,  6.,  6.,  4.,  9.,  1.,  5.,  0.,  9.,\n",
       "        5.,  2.,  8.,  2.,  0.,  0.,  1.,  7.,  6.,  3.,  2.,  1.,  7.,\n",
       "        4.,  6.,  3.,  1.,  3.,  9.,  1.,  7.,  6.,  8.,  4.,  3.,  1.,\n",
       "        4.,  0.,  5.,  3.,  6.,  9.,  6.,  1.,  7.,  5.,  4.,  4.,  7.,\n",
       "        2.,  8.,  2.,  2.,  5.,  7.,  9.,  5.,  4.,  8.,  8.,  4.,  9.,\n",
       "        0.,  8.,  9.,  8.,  0.,  1.,  2.,  3.,  4.,  5.,  6.,  7.,  1.,\n",
       "        9.,  0.,  1.,  2.,  3.,  4.,  5.,  6.,  9.,  0.,  1.,  2.,  3.,\n",
       "        4.,  5.,  6.,  7.,  8.,  9.,  4.,  9.,  5.,  5.,  6.,  5.,  0.,\n",
       "        9.,  8.,  5.,  8.,  4.,  1.,  7.,  7.,  3.,  5.,  1.,  0.,  0.,\n",
       "        2.,  2.,  7.,  8.,  2.,  0.,  1.,  2.,  6.,  3.,  3.,  7.,  7.,\n",
       "        8.,  4.,  6.,  6.,  6.,  7.,  9.,  1.,  5.,  0.,  9.,  5.,  2.,\n",
       "        8.,  0.,  1.,  7.,  6.,  3.,  2.,  1.,  7.,  4.,  6.,  3.,  1.,\n",
       "        3.,  9.,  1.,  7.,  6.,  8.,  4.,  3.,  1.,  4.,  0.,  5.,  3.,\n",
       "        6.,  9.,  6.,  1.,  7.,  5.,  4.,  4.,  7.,  2.,  2.,  5.,  7.,\n",
       "        3.,  5.,  8.,  4.,  5.,  0.,  8.,  9.,  7.,  0.,  1.,  2.,  3.,\n",
       "        4.,  5.,  6.,  7.,  8.,  9.,  0.,  1.,  2.,  3.,  4.,  5.,  6.,\n",
       "        7.,  8.,  9.,  0.,  1.,  2.,  3.,  4.,  5.,  6.,  7.,  8.,  9.,\n",
       "        0.,  9.,  5.,  5.,  6.,  5.,  0.,  9.,  8.,  9.,  8.,  4.,  1.,\n",
       "        7.,  7.,  3.,  5.,  1.,  0.,  0.,  2.,  2.,  7.,  8.,  2.,  0.,\n",
       "        1.,  2.,  6.,  3.,  2.,  7.,  3.,  3.,  4.,  6.,  6.,  6.,  4.,\n",
       "        9.,  1.,  5.,  0.,  9.,  5.,  2.,  8.,  2.,  0.,  0.,  1.,  7.,\n",
       "        6.,  3.,  2.,  1.,  7.,  4.,  6.,  3.,  1.,  3.,  9.,  1.,  7.,\n",
       "        6.,  8.,  4.,  5.,  1.,  4.,  0.,  5.,  3.,  6.,  9.,  6.,  1.,\n",
       "        7.,  5.,  4.,  4.,  7.,  2.,  8.,  2.,  2.,  5.,  7.,  9.,  5.,\n",
       "        4.,  8.,  1.,  4.,  9.,  0.,  8.,  9.,  8.])"
      ]
     },
     "execution_count": 96,
     "metadata": {},
     "output_type": "execute_result"
    }
   ],
   "source": [
    "classes"
   ]
  },
  {
   "cell_type": "code",
   "execution_count": 98,
   "metadata": {},
   "outputs": [
    {
     "data": {
      "text/plain": [
       "array([[34,  0,  0,  0,  1,  0,  0,  0,  0,  0],\n",
       "       [ 0, 36,  0,  0,  0,  0,  0,  0,  0,  0],\n",
       "       [ 0,  0, 35,  0,  0,  0,  0,  0,  0,  0],\n",
       "       [ 0,  0,  1, 33,  0,  1,  0,  1,  1,  0],\n",
       "       [ 0,  0,  0,  0, 35,  0,  0,  1,  1,  0],\n",
       "       [ 0,  0,  0,  0,  0, 37,  0,  0,  0,  0],\n",
       "       [ 0,  0,  0,  0,  0,  0, 37,  0,  0,  0],\n",
       "       [ 0,  0,  0,  0,  0,  0,  0, 36,  0,  0],\n",
       "       [ 0,  2,  0,  0,  0,  0,  0,  1, 30,  0],\n",
       "       [ 0,  0,  0,  1,  0,  2,  0,  0,  0, 34]])"
      ]
     },
     "execution_count": 98,
     "metadata": {},
     "output_type": "execute_result"
    }
   ],
   "source": [
    "confusion_matrix(labels_test, classes)"
   ]
  }
 ],
 "metadata": {
  "kernelspec": {
   "display_name": "Python 3",
   "language": "python",
   "name": "python3"
  },
  "language_info": {
   "codemirror_mode": {
    "name": "ipython",
    "version": 3
   },
   "file_extension": ".py",
   "mimetype": "text/x-python",
   "name": "python",
   "nbconvert_exporter": "python",
   "pygments_lexer": "ipython3",
   "version": "3.6.3"
  }
 },
 "nbformat": 4,
 "nbformat_minor": 2
}
